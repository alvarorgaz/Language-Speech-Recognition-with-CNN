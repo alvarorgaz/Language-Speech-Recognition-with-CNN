{
 "cells": [
  {
   "cell_type": "code",
   "execution_count": 1,
   "metadata": {},
   "outputs": [],
   "source": [
    "import os, librosa\n",
    "dir_train = '../data/train/'\n",
    "dir_test_labels = '../data/test_labels.txt'"
   ]
  },
  {
   "cell_type": "markdown",
   "metadata": {},
   "source": [
    "Calculate the training total minutes, total hours, total files and average file seconds by languages. The format file name is *common_voice_language_ID.wav*. "
   ]
  },
  {
   "cell_type": "code",
   "execution_count": 2,
   "metadata": {},
   "outputs": [],
   "source": [
    "train = {'de':{'total minutes':0,'number files':0},\n",
    "         'es':{'total minutes':0,'number files':0},\n",
    "         'et':{'total minutes':0,'number files':0},\n",
    "         'fa':{'total minutes':0,'number files':0},\n",
    "         'kab':{'total minutes':0,'number files':0},\n",
    "         'zh-CN':{'total minutes':0,'number files':0}\n",
    "        }\n",
    "\n",
    "for filename in os.listdir(dir_train):\n",
    "    wave, frequency = librosa.core.load(dir_train+filename, sr=16000)\n",
    "    train[filename.split('_')[2]]['number files'] += 1\n",
    "    train[filename.split('_')[2]]['total minutes'] += len(wave)/frequency/60\n",
    "\n",
    "for language in train.keys():\n",
    "    train[language]['avg file sec'] = train[language]['total minutes']/train[language]['number files']*60\n",
    "    train[language]['total hours'] = train[language]['total minutes']/60"
   ]
  },
  {
   "cell_type": "code",
   "execution_count": 3,
   "metadata": {},
   "outputs": [
    {
     "data": {
      "text/plain": [
       "{'de': {'total minutes': 540.0233500000011,\n",
       "  'number files': 7053,\n",
       "  'average file seconds': 4.593988515525317,\n",
       "  'total hours': 9.000389166666684},\n",
       " 'es': {'total minutes': 488.054183333335,\n",
       "  'number files': 6527,\n",
       "  'average file seconds': 4.486479393289429,\n",
       "  'total hours': 8.134236388888917},\n",
       " 'et': {'total minutes': 534.5303000000015,\n",
       "  'number files': 4818,\n",
       "  'average file seconds': 6.656666251556681,\n",
       "  'total hours': 8.908838333333359},\n",
       " 'fa': {'total minutes': 524.6122166666681,\n",
       "  'number files': 6337,\n",
       "  'average file seconds': 4.967134764083966,\n",
       "  'total hours': 8.743536944444468},\n",
       " 'kab': {'total minutes': 501.39326666666517,\n",
       "  'number files': 6676,\n",
       "  'average file seconds': 4.506230677052113,\n",
       "  'total hours': 8.35655444444442},\n",
       " 'zh-CN': {'total minutes': 481.6648333333338,\n",
       "  'number files': 4298,\n",
       "  'average file seconds': 6.724032107957195,\n",
       "  'total hours': 8.02774722222223}}"
      ]
     },
     "execution_count": 3,
     "metadata": {},
     "output_type": "execute_result"
    }
   ],
   "source": [
    "train"
   ]
  },
  {
   "cell_type": "markdown",
   "metadata": {},
   "source": [
    "Calculate the test total minutes, total hours and total files. The row format of *test_labels.txt* file is *ID.wav language*."
   ]
  },
  {
   "cell_type": "code",
   "execution_count": 4,
   "metadata": {},
   "outputs": [],
   "source": [
    "test = {'german':{'total minutes':0,'number files':0},\n",
    "        'spanish':{'total minutes':0,'number files':0},\n",
    "        'estonian':{'total minutes':0,'number files':0},\n",
    "        'farsi':{'total minutes':0,'number files':0},\n",
    "        'kabyle':{'total minutes':0,'number files':0},\n",
    "        'mandarin':{'total minutes':0,'number files':0}\n",
    "       }\n",
    "\n",
    "with open(dir_test_labels) as file:\n",
    "    for row in file:\n",
    "        filename, language = row.split(' ')\n",
    "        test[language.replace('\\n', '')]['number files'] += 1\n",
    "        test[language.replace('\\n', '')]['total minutes'] += 3/60\n",
    "\n",
    "for language in test.keys():\n",
    "    test[language.replace('\\n', '')]['total hours'] = test[language]['total minutes']/60"
   ]
  },
  {
   "cell_type": "code",
   "execution_count": 5,
   "metadata": {},
   "outputs": [
    {
     "data": {
      "text/plain": [
       "{'german': {'total minutes': 24.700000000000216,\n",
       "  'number files': 494,\n",
       "  'total hours': 0.4116666666666703},\n",
       " 'spanish': {'total minutes': 22.600000000000186,\n",
       "  'number files': 452,\n",
       "  'total hours': 0.37666666666666976},\n",
       " 'estonian': {'total minutes': 24.35000000000021,\n",
       "  'number files': 487,\n",
       "  'total hours': 0.4058333333333369},\n",
       " 'farsi': {'total minutes': 25.80000000000023,\n",
       "  'number files': 516,\n",
       "  'total hours': 0.4300000000000039},\n",
       " 'kabyle': {'total minutes': 24.30000000000021,\n",
       "  'number files': 486,\n",
       "  'total hours': 0.4050000000000035},\n",
       " 'mandarin': {'total minutes': 34.75000000000016,\n",
       "  'number files': 695,\n",
       "  'total hours': 0.5791666666666694}}"
      ]
     },
     "execution_count": 5,
     "metadata": {},
     "output_type": "execute_result"
    }
   ],
   "source": [
    "test"
   ]
  }
 ],
 "metadata": {
  "kernelspec": {
   "display_name": "Python 3",
   "language": "python",
   "name": "python3"
  },
  "language_info": {
   "codemirror_mode": {
    "name": "ipython",
    "version": 3
   },
   "file_extension": ".py",
   "mimetype": "text/x-python",
   "name": "python",
   "nbconvert_exporter": "python",
   "pygments_lexer": "ipython3",
   "version": "3.6.8"
  }
 },
 "nbformat": 4,
 "nbformat_minor": 2
}
